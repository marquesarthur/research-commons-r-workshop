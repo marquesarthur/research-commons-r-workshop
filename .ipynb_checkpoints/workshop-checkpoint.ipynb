{
 "cells": [
  {
   "cell_type": "markdown",
   "metadata": {},
   "source": [
    "<img style=\"float: right;\" src=\"figures/research_commons_logo.png\">\n",
    "\n",
    "# WORKSHOP: INTRODUCTION TO R FOR STATISTICAL ANALYSIS\n",
    "\n",
    "* Arthur Marques (GAA)\n",
    "* Minjeong Park\n",
    "* Mohammad Zubair\n",
    "\n",
    "\n",
    "***"
   ]
  },
  {
   "cell_type": "markdown",
   "metadata": {
    "slideshow": {
     "slide_type": "-"
    }
   },
   "source": [
    "# Learning Goals\n",
    "\n",
    "<img src=\"figures/learning_objectives.png\">\n",
    "\n",
    "* Understand the basic commands of R and how to use RStudio environment\n",
    "\n",
    "* Learn how to load, preprocess, and explore datasets\n",
    "\n",
    "* Learn the basic commands for descriptive statistics\n",
    "\n",
    "* Learn basic commands for inference statistics\n",
    "\n",
    "***"
   ]
  },
  {
   "cell_type": "markdown",
   "metadata": {
    "slideshow": {
     "slide_type": "-"
    }
   },
   "source": [
    "## Workshop materials\n",
    "\n",
    "### Access the UBC research commons R workshop\n",
    "\n",
    "https://guides.library.ubc.ca/library_research_commons/rworkshop\n",
    "\n",
    "<img src=\"figures/path_to_files.png\">\n",
    "\n",
    "***"
   ]
  },
  {
   "cell_type": "markdown",
   "metadata": {
    "slideshow": {
     "slide_type": "-"
    }
   },
   "source": [
    "### Download the files for this workshop\n",
    "\n",
    "<img src=\"figures/save_to_desktop.png\">\n",
    "\n",
    "***"
   ]
  },
  {
   "cell_type": "markdown",
   "metadata": {
    "slideshow": {
     "slide_type": "slide"
    }
   },
   "source": [
    "## Overview of quantitative research\n",
    "\n",
    "<img src=\"figures/overview.png\">\n",
    "\n",
    "***"
   ]
  },
  {
   "cell_type": "markdown",
   "metadata": {},
   "source": [
    "<img src=\"figures/comparison.png\">\n",
    "\n",
    "***"
   ]
  },
  {
   "cell_type": "markdown",
   "metadata": {},
   "source": [
    "## R environment\n",
    "\n",
    "### Open RStudio\n",
    "\n",
    "<img src=\"figures/R_environment.png\">\n",
    "\n",
    "***"
   ]
  },
  {
   "cell_type": "markdown",
   "metadata": {},
   "source": [
    "### Create a new R script \n",
    "\n",
    "#### File > New file > R Script\n",
    "\n",
    "<img src=\"figures/R_Studio.png\">\n",
    "\n",
    "***"
   ]
  },
  {
   "cell_type": "markdown",
   "metadata": {},
   "source": [
    "### Change your working directory\n",
    "\n",
    "Set up a folder/path where data are located as a working directory \n",
    "\n",
    "<img src=\"figures/working_directory.png\">\n",
    "\n",
    "***"
   ]
  },
  {
   "cell_type": "markdown",
   "metadata": {},
   "source": [
    "# Basic Commands\n",
    "\n",
    "<img src=\"figures/learning_objectives.png\">\n",
    "\n",
    "***"
   ]
  },
  {
   "cell_type": "markdown",
   "metadata": {},
   "source": [
    "### R packages\n",
    "\n",
    "R package is a library of prewritten code designed for a particular task or a collection of tasks\n",
    "\n",
    "<img src=\"figures/R_packages.png\">\n",
    "\n",
    "***"
   ]
  },
  {
   "cell_type": "markdown",
   "metadata": {},
   "source": [
    "### Installing a new package (2 options)\n",
    "\n",
    "\n",
    "\n",
    "#### Under Tools -> Packages tab -> Search for “psych” and “dplyr”\n",
    "\n",
    "<img src=\"figures/install_packages.png\">\n",
    "\n",
    "***"
   ]
  },
  {
   "cell_type": "markdown",
   "metadata": {},
   "source": [
    "#### Using code: install.packages( ) and library( ) functions\n",
    "\n",
    "```\n",
    "install.packages(c(\"ggplot2\", \"dplyr\", \"readr\", \"psych\"))\n",
    "\n",
    "library(\"ggplot2\")\n",
    "library(\"dplyr\")\n",
    "library(\"readr\")\n",
    "library(\"psych\")\n",
    "```\n",
    "\n",
    "***"
   ]
  },
  {
   "cell_type": "code",
   "execution_count": 1,
   "metadata": {},
   "outputs": [
    {
     "name": "stderr",
     "output_type": "stream",
     "text": [
      "\n",
      "Attaching package: ‘dplyr’\n",
      "\n",
      "The following objects are masked from ‘package:stats’:\n",
      "\n",
      "    filter, lag\n",
      "\n",
      "The following objects are masked from ‘package:base’:\n",
      "\n",
      "    intersect, setdiff, setequal, union\n",
      "\n"
     ]
    }
   ],
   "source": [
    "library(\"ggplot2\")\n",
    "library(\"dplyr\")\n",
    "library(\"readr\")"
   ]
  },
  {
   "cell_type": "markdown",
   "metadata": {},
   "source": [
    "#### Tips\n",
    "\n",
    "**On the editor**\n",
    "\n",
    "<kbd>CTRL</kbd>+<kbd>enter</kbd> runs the command in the current line (<kbd>cmd</kbd>+<kbd>enter</kbd> on MacOS)\n",
    "\n",
    "<kbd>CTRL</kbd>+<kbd>w</kbd> closes current tab (<kbd>cmd</kbd>+<kbd>w</kbd> on MacOS)\n",
    "\n",
    "After typing the first few lines of a command, <kbd>tab</kbd> auto-completes the command\n",
    "\n",
    "**On the console**\n",
    "\n",
    "<kbd>↑</kbd> shows the last command (useful to rerun the command of fix errors)\n",
    "\n",
    "***"
   ]
  },
  {
   "cell_type": "markdown",
   "metadata": {},
   "source": [
    "\n",
    "# Data Manipulation\n",
    "\n",
    "<img src=\"figures/learning_objectives.png\">\n",
    "\n",
    "#### Our data\n",
    "\n",
    "<img src=\"figures/global_warming.jpeg\">\n",
    "\n",
    "***"
   ]
  },
  {
   "cell_type": "markdown",
   "metadata": {},
   "source": [
    "### Import data from excel\n",
    "\n",
    "\n",
    "\n",
    "<img src=\"figures/data_import_from_excel.png\">\n",
    "\n",
    "***"
   ]
  },
  {
   "cell_type": "markdown",
   "metadata": {},
   "source": [
    "### Preview data and give it a nice name\n",
    "\n",
    "\n",
    "<img src=\"figures/data_import_preview.png\">\n",
    "\n",
    "\n",
    "***"
   ]
  },
  {
   "cell_type": "markdown",
   "metadata": {},
   "source": [
    "### You can also load your data with the read_csv command"
   ]
  },
  {
   "cell_type": "code",
   "execution_count": 2,
   "metadata": {},
   "outputs": [
    {
     "name": "stderr",
     "output_type": "stream",
     "text": [
      "Parsed with column specification:\n",
      "cols(\n",
      "  dt = col_date(format = \"\"),\n",
      "  AverageTemperature = col_double(),\n",
      "  AverageTemperatureUncertainty = col_double(),\n",
      "  Country = col_character()\n",
      ")\n"
     ]
    }
   ],
   "source": [
    "mydata <- read_csv(\"GlobalLandTemperaturesByCountry.csv\")"
   ]
  },
  {
   "cell_type": "markdown",
   "metadata": {},
   "source": [
    "***\n",
    "\n",
    "## Basic data commands \n",
    "\n",
    "### names( ): check variable names"
   ]
  },
  {
   "cell_type": "code",
   "execution_count": 3,
   "metadata": {},
   "outputs": [
    {
     "data": {
      "text/html": [
       "<ol class=list-inline>\n",
       "\t<li>'dt'</li>\n",
       "\t<li>'AverageTemperature'</li>\n",
       "\t<li>'AverageTemperatureUncertainty'</li>\n",
       "\t<li>'Country'</li>\n",
       "</ol>\n"
      ],
      "text/latex": [
       "\\begin{enumerate*}\n",
       "\\item 'dt'\n",
       "\\item 'AverageTemperature'\n",
       "\\item 'AverageTemperatureUncertainty'\n",
       "\\item 'Country'\n",
       "\\end{enumerate*}\n"
      ],
      "text/markdown": [
       "1. 'dt'\n",
       "2. 'AverageTemperature'\n",
       "3. 'AverageTemperatureUncertainty'\n",
       "4. 'Country'\n",
       "\n",
       "\n"
      ],
      "text/plain": [
       "[1] \"dt\"                            \"AverageTemperature\"           \n",
       "[3] \"AverageTemperatureUncertainty\" \"Country\"                      "
      ]
     },
     "metadata": {},
     "output_type": "display_data"
    }
   ],
   "source": [
    "names(mydata)"
   ]
  },
  {
   "cell_type": "markdown",
   "metadata": {},
   "source": [
    "***\n",
    "\n",
    "### View first n lines of the table"
   ]
  },
  {
   "cell_type": "code",
   "execution_count": 4,
   "metadata": {},
   "outputs": [
    {
     "data": {
      "text/html": [
       "<table>\n",
       "<thead><tr><th scope=col>dt</th><th scope=col>AverageTemperature</th><th scope=col>AverageTemperatureUncertainty</th><th scope=col>Country</th></tr></thead>\n",
       "<tbody>\n",
       "\t<tr><td>1743-11-01</td><td> 4.384    </td><td>2.294     </td><td>Åland     </td></tr>\n",
       "\t<tr><td>1743-12-01</td><td>    NA    </td><td>   NA     </td><td>Åland     </td></tr>\n",
       "\t<tr><td>1744-01-01</td><td>    NA    </td><td>   NA     </td><td>Åland     </td></tr>\n",
       "\t<tr><td>1744-02-01</td><td>    NA    </td><td>   NA     </td><td>Åland     </td></tr>\n",
       "\t<tr><td>1744-03-01</td><td>    NA    </td><td>   NA     </td><td>Åland     </td></tr>\n",
       "\t<tr><td>1744-04-01</td><td> 1.530    </td><td>4.680     </td><td>Åland     </td></tr>\n",
       "\t<tr><td>1744-05-01</td><td> 6.702    </td><td>1.789     </td><td>Åland     </td></tr>\n",
       "\t<tr><td>1744-06-01</td><td>11.609    </td><td>1.577     </td><td>Åland     </td></tr>\n",
       "\t<tr><td>1744-07-01</td><td>15.342    </td><td>1.410     </td><td>Åland     </td></tr>\n",
       "\t<tr><td>1744-08-01</td><td>    NA    </td><td>   NA     </td><td>Åland     </td></tr>\n",
       "</tbody>\n",
       "</table>\n"
      ],
      "text/latex": [
       "\\begin{tabular}{r|llll}\n",
       " dt & AverageTemperature & AverageTemperatureUncertainty & Country\\\\\n",
       "\\hline\n",
       "\t 1743-11-01 &  4.384     & 2.294      & Åland     \\\\\n",
       "\t 1743-12-01 &     NA     &    NA      & Åland     \\\\\n",
       "\t 1744-01-01 &     NA     &    NA      & Åland     \\\\\n",
       "\t 1744-02-01 &     NA     &    NA      & Åland     \\\\\n",
       "\t 1744-03-01 &     NA     &    NA      & Åland     \\\\\n",
       "\t 1744-04-01 &  1.530     & 4.680      & Åland     \\\\\n",
       "\t 1744-05-01 &  6.702     & 1.789      & Åland     \\\\\n",
       "\t 1744-06-01 & 11.609     & 1.577      & Åland     \\\\\n",
       "\t 1744-07-01 & 15.342     & 1.410      & Åland     \\\\\n",
       "\t 1744-08-01 &     NA     &    NA      & Åland     \\\\\n",
       "\\end{tabular}\n"
      ],
      "text/markdown": [
       "\n",
       "| dt | AverageTemperature | AverageTemperatureUncertainty | Country |\n",
       "|---|---|---|---|\n",
       "| 1743-11-01 |  4.384     | 2.294      | Åland      |\n",
       "| 1743-12-01 |     NA     |    NA      | Åland      |\n",
       "| 1744-01-01 |     NA     |    NA      | Åland      |\n",
       "| 1744-02-01 |     NA     |    NA      | Åland      |\n",
       "| 1744-03-01 |     NA     |    NA      | Åland      |\n",
       "| 1744-04-01 |  1.530     | 4.680      | Åland      |\n",
       "| 1744-05-01 |  6.702     | 1.789      | Åland      |\n",
       "| 1744-06-01 | 11.609     | 1.577      | Åland      |\n",
       "| 1744-07-01 | 15.342     | 1.410      | Åland      |\n",
       "| 1744-08-01 |     NA     |    NA      | Åland      |\n",
       "\n"
      ],
      "text/plain": [
       "   dt         AverageTemperature AverageTemperatureUncertainty Country\n",
       "1  1743-11-01  4.384             2.294                         Åland  \n",
       "2  1743-12-01     NA                NA                         Åland  \n",
       "3  1744-01-01     NA                NA                         Åland  \n",
       "4  1744-02-01     NA                NA                         Åland  \n",
       "5  1744-03-01     NA                NA                         Åland  \n",
       "6  1744-04-01  1.530             4.680                         Åland  \n",
       "7  1744-05-01  6.702             1.789                         Åland  \n",
       "8  1744-06-01 11.609             1.577                         Åland  \n",
       "9  1744-07-01 15.342             1.410                         Åland  \n",
       "10 1744-08-01     NA                NA                         Åland  "
      ]
     },
     "metadata": {},
     "output_type": "display_data"
    }
   ],
   "source": [
    "head(mydata, n = 10)"
   ]
  },
  {
   "cell_type": "markdown",
   "metadata": {},
   "source": [
    "***\n",
    "\n",
    "### table( ): check variable values and frequency"
   ]
  },
  {
   "cell_type": "markdown",
   "metadata": {},
   "source": [
    "```\n",
    "table(mydata$Country)\n",
    "```"
   ]
  },
  {
   "cell_type": "code",
   "execution_count": 5,
   "metadata": {},
   "outputs": [
    {
     "data": {
      "text/plain": [
       "\n",
       "   Afghanistan         Africa          Åland        Albania        Algeria \n",
       "          2106           1965           3239           3239           2721 \n",
       "American Samoa        Andorra         Angola       Anguilla     Antarctica \n",
       "          1761           3239           1878           2277            764 "
      ]
     },
     "metadata": {},
     "output_type": "display_data"
    }
   ],
   "source": [
    "head(table(mydata$Country), n=10)"
   ]
  },
  {
   "cell_type": "markdown",
   "metadata": {},
   "source": [
    "***\n",
    "\n",
    "## Basic data management commands\n",
    "\n",
    "### is.factor( ): check if the variable is defined as categorical"
   ]
  },
  {
   "cell_type": "code",
   "execution_count": 6,
   "metadata": {},
   "outputs": [
    {
     "data": {
      "text/html": [
       "FALSE"
      ],
      "text/latex": [
       "FALSE"
      ],
      "text/markdown": [
       "FALSE"
      ],
      "text/plain": [
       "[1] FALSE"
      ]
     },
     "metadata": {},
     "output_type": "display_data"
    }
   ],
   "source": [
    "is.factor(mydata$Country)"
   ]
  },
  {
   "cell_type": "markdown",
   "metadata": {},
   "source": [
    "### as.factor( ): changes variable to categorical format"
   ]
  },
  {
   "cell_type": "code",
   "execution_count": 7,
   "metadata": {},
   "outputs": [],
   "source": [
    "mydata$Country <- as.factor(mydata$Country)"
   ]
  },
  {
   "cell_type": "code",
   "execution_count": 8,
   "metadata": {},
   "outputs": [
    {
     "data": {
      "text/html": [
       "TRUE"
      ],
      "text/latex": [
       "TRUE"
      ],
      "text/markdown": [
       "TRUE"
      ],
      "text/plain": [
       "[1] TRUE"
      ]
     },
     "metadata": {},
     "output_type": "display_data"
    }
   ],
   "source": [
    "is.factor(mydata$Country)"
   ]
  },
  {
   "cell_type": "markdown",
   "metadata": {},
   "source": [
    "### numeric( ): check if the variable is defined as numerical"
   ]
  },
  {
   "cell_type": "code",
   "execution_count": 9,
   "metadata": {},
   "outputs": [
    {
     "data": {
      "text/html": [
       "TRUE"
      ],
      "text/latex": [
       "TRUE"
      ],
      "text/markdown": [
       "TRUE"
      ],
      "text/plain": [
       "[1] TRUE"
      ]
     },
     "metadata": {},
     "output_type": "display_data"
    }
   ],
   "source": [
    "is.numeric(mydata$AverageTemperature)"
   ]
  },
  {
   "cell_type": "markdown",
   "metadata": {},
   "source": [
    "***\n",
    "\n",
    "## Data management with \"dplyr\" package"
   ]
  },
  {
   "cell_type": "markdown",
   "metadata": {},
   "source": [
    "### Removing empty cells/rows"
   ]
  },
  {
   "cell_type": "code",
   "execution_count": 10,
   "metadata": {},
   "outputs": [
    {
     "data": {
      "text/html": [
       "<table>\n",
       "<thead><tr><th scope=col>dt</th><th scope=col>AverageTemperature</th><th scope=col>AverageTemperatureUncertainty</th><th scope=col>Country</th></tr></thead>\n",
       "<tbody>\n",
       "\t<tr><td>1743-11-01</td><td> 4.384    </td><td>2.294     </td><td>Åland     </td></tr>\n",
       "\t<tr><td>1743-12-01</td><td>    NA    </td><td>   NA     </td><td>Åland     </td></tr>\n",
       "\t<tr><td>1744-01-01</td><td>    NA    </td><td>   NA     </td><td>Åland     </td></tr>\n",
       "\t<tr><td>1744-02-01</td><td>    NA    </td><td>   NA     </td><td>Åland     </td></tr>\n",
       "\t<tr><td>1744-03-01</td><td>    NA    </td><td>   NA     </td><td>Åland     </td></tr>\n",
       "\t<tr><td>1744-04-01</td><td> 1.530    </td><td>4.680     </td><td>Åland     </td></tr>\n",
       "\t<tr><td>1744-05-01</td><td> 6.702    </td><td>1.789     </td><td>Åland     </td></tr>\n",
       "\t<tr><td>1744-06-01</td><td>11.609    </td><td>1.577     </td><td>Åland     </td></tr>\n",
       "\t<tr><td>1744-07-01</td><td>15.342    </td><td>1.410     </td><td>Åland     </td></tr>\n",
       "\t<tr><td>1744-08-01</td><td>    NA    </td><td>   NA     </td><td>Åland     </td></tr>\n",
       "</tbody>\n",
       "</table>\n"
      ],
      "text/latex": [
       "\\begin{tabular}{r|llll}\n",
       " dt & AverageTemperature & AverageTemperatureUncertainty & Country\\\\\n",
       "\\hline\n",
       "\t 1743-11-01 &  4.384     & 2.294      & Åland     \\\\\n",
       "\t 1743-12-01 &     NA     &    NA      & Åland     \\\\\n",
       "\t 1744-01-01 &     NA     &    NA      & Åland     \\\\\n",
       "\t 1744-02-01 &     NA     &    NA      & Åland     \\\\\n",
       "\t 1744-03-01 &     NA     &    NA      & Åland     \\\\\n",
       "\t 1744-04-01 &  1.530     & 4.680      & Åland     \\\\\n",
       "\t 1744-05-01 &  6.702     & 1.789      & Åland     \\\\\n",
       "\t 1744-06-01 & 11.609     & 1.577      & Åland     \\\\\n",
       "\t 1744-07-01 & 15.342     & 1.410      & Åland     \\\\\n",
       "\t 1744-08-01 &     NA     &    NA      & Åland     \\\\\n",
       "\\end{tabular}\n"
      ],
      "text/markdown": [
       "\n",
       "| dt | AverageTemperature | AverageTemperatureUncertainty | Country |\n",
       "|---|---|---|---|\n",
       "| 1743-11-01 |  4.384     | 2.294      | Åland      |\n",
       "| 1743-12-01 |     NA     |    NA      | Åland      |\n",
       "| 1744-01-01 |     NA     |    NA      | Åland      |\n",
       "| 1744-02-01 |     NA     |    NA      | Åland      |\n",
       "| 1744-03-01 |     NA     |    NA      | Åland      |\n",
       "| 1744-04-01 |  1.530     | 4.680      | Åland      |\n",
       "| 1744-05-01 |  6.702     | 1.789      | Åland      |\n",
       "| 1744-06-01 | 11.609     | 1.577      | Åland      |\n",
       "| 1744-07-01 | 15.342     | 1.410      | Åland      |\n",
       "| 1744-08-01 |     NA     |    NA      | Åland      |\n",
       "\n"
      ],
      "text/plain": [
       "   dt         AverageTemperature AverageTemperatureUncertainty Country\n",
       "1  1743-11-01  4.384             2.294                         Åland  \n",
       "2  1743-12-01     NA                NA                         Åland  \n",
       "3  1744-01-01     NA                NA                         Åland  \n",
       "4  1744-02-01     NA                NA                         Åland  \n",
       "5  1744-03-01     NA                NA                         Åland  \n",
       "6  1744-04-01  1.530             4.680                         Åland  \n",
       "7  1744-05-01  6.702             1.789                         Åland  \n",
       "8  1744-06-01 11.609             1.577                         Åland  \n",
       "9  1744-07-01 15.342             1.410                         Åland  \n",
       "10 1744-08-01     NA                NA                         Åland  "
      ]
     },
     "metadata": {},
     "output_type": "display_data"
    }
   ],
   "source": [
    "head(mydata, n = 10)"
   ]
  },
  {
   "cell_type": "code",
   "execution_count": 11,
   "metadata": {},
   "outputs": [],
   "source": [
    "mydata <- na.omit(mydata)"
   ]
  },
  {
   "cell_type": "code",
   "execution_count": 12,
   "metadata": {},
   "outputs": [
    {
     "data": {
      "text/html": [
       "<table>\n",
       "<thead><tr><th scope=col>dt</th><th scope=col>AverageTemperature</th><th scope=col>AverageTemperatureUncertainty</th><th scope=col>Country</th></tr></thead>\n",
       "<tbody>\n",
       "\t<tr><td>1743-11-01</td><td> 4.384    </td><td>2.294     </td><td>Åland     </td></tr>\n",
       "\t<tr><td>1744-04-01</td><td> 1.530    </td><td>4.680     </td><td>Åland     </td></tr>\n",
       "\t<tr><td>1744-05-01</td><td> 6.702    </td><td>1.789     </td><td>Åland     </td></tr>\n",
       "\t<tr><td>1744-06-01</td><td>11.609    </td><td>1.577     </td><td>Åland     </td></tr>\n",
       "\t<tr><td>1744-07-01</td><td>15.342    </td><td>1.410     </td><td>Åland     </td></tr>\n",
       "\t<tr><td>1744-09-01</td><td>11.702    </td><td>1.517     </td><td>Åland     </td></tr>\n",
       "\t<tr><td>1744-10-01</td><td> 5.477    </td><td>1.862     </td><td>Åland     </td></tr>\n",
       "\t<tr><td>1744-11-01</td><td> 3.407    </td><td>1.425     </td><td>Åland     </td></tr>\n",
       "\t<tr><td>1744-12-01</td><td>-2.181    </td><td>1.641     </td><td>Åland     </td></tr>\n",
       "\t<tr><td>1745-01-01</td><td>-3.850    </td><td>1.841     </td><td>Åland     </td></tr>\n",
       "</tbody>\n",
       "</table>\n"
      ],
      "text/latex": [
       "\\begin{tabular}{r|llll}\n",
       " dt & AverageTemperature & AverageTemperatureUncertainty & Country\\\\\n",
       "\\hline\n",
       "\t 1743-11-01 &  4.384     & 2.294      & Åland     \\\\\n",
       "\t 1744-04-01 &  1.530     & 4.680      & Åland     \\\\\n",
       "\t 1744-05-01 &  6.702     & 1.789      & Åland     \\\\\n",
       "\t 1744-06-01 & 11.609     & 1.577      & Åland     \\\\\n",
       "\t 1744-07-01 & 15.342     & 1.410      & Åland     \\\\\n",
       "\t 1744-09-01 & 11.702     & 1.517      & Åland     \\\\\n",
       "\t 1744-10-01 &  5.477     & 1.862      & Åland     \\\\\n",
       "\t 1744-11-01 &  3.407     & 1.425      & Åland     \\\\\n",
       "\t 1744-12-01 & -2.181     & 1.641      & Åland     \\\\\n",
       "\t 1745-01-01 & -3.850     & 1.841      & Åland     \\\\\n",
       "\\end{tabular}\n"
      ],
      "text/markdown": [
       "\n",
       "| dt | AverageTemperature | AverageTemperatureUncertainty | Country |\n",
       "|---|---|---|---|\n",
       "| 1743-11-01 |  4.384     | 2.294      | Åland      |\n",
       "| 1744-04-01 |  1.530     | 4.680      | Åland      |\n",
       "| 1744-05-01 |  6.702     | 1.789      | Åland      |\n",
       "| 1744-06-01 | 11.609     | 1.577      | Åland      |\n",
       "| 1744-07-01 | 15.342     | 1.410      | Åland      |\n",
       "| 1744-09-01 | 11.702     | 1.517      | Åland      |\n",
       "| 1744-10-01 |  5.477     | 1.862      | Åland      |\n",
       "| 1744-11-01 |  3.407     | 1.425      | Åland      |\n",
       "| 1744-12-01 | -2.181     | 1.641      | Åland      |\n",
       "| 1745-01-01 | -3.850     | 1.841      | Åland      |\n",
       "\n"
      ],
      "text/plain": [
       "   dt         AverageTemperature AverageTemperatureUncertainty Country\n",
       "1  1743-11-01  4.384             2.294                         Åland  \n",
       "2  1744-04-01  1.530             4.680                         Åland  \n",
       "3  1744-05-01  6.702             1.789                         Åland  \n",
       "4  1744-06-01 11.609             1.577                         Åland  \n",
       "5  1744-07-01 15.342             1.410                         Åland  \n",
       "6  1744-09-01 11.702             1.517                         Åland  \n",
       "7  1744-10-01  5.477             1.862                         Åland  \n",
       "8  1744-11-01  3.407             1.425                         Åland  \n",
       "9  1744-12-01 -2.181             1.641                         Åland  \n",
       "10 1745-01-01 -3.850             1.841                         Åland  "
      ]
     },
     "metadata": {},
     "output_type": "display_data"
    }
   ],
   "source": [
    "head(mydata, n = 10)"
   ]
  },
  {
   "cell_type": "markdown",
   "metadata": {},
   "source": [
    "\n",
    "***\n",
    "\n",
    "### select ( ): selects columns based on columns names"
   ]
  },
  {
   "cell_type": "code",
   "execution_count": 13,
   "metadata": {},
   "outputs": [
    {
     "data": {
      "text/html": [
       "<table>\n",
       "<thead><tr><th scope=col>dt</th><th scope=col>Country</th></tr></thead>\n",
       "<tbody>\n",
       "\t<tr><td>1743-11-01</td><td>Åland     </td></tr>\n",
       "\t<tr><td>1744-04-01</td><td>Åland     </td></tr>\n",
       "\t<tr><td>1744-05-01</td><td>Åland     </td></tr>\n",
       "\t<tr><td>1744-06-01</td><td>Åland     </td></tr>\n",
       "\t<tr><td>1744-07-01</td><td>Åland     </td></tr>\n",
       "</tbody>\n",
       "</table>\n"
      ],
      "text/latex": [
       "\\begin{tabular}{r|ll}\n",
       " dt & Country\\\\\n",
       "\\hline\n",
       "\t 1743-11-01 & Åland     \\\\\n",
       "\t 1744-04-01 & Åland     \\\\\n",
       "\t 1744-05-01 & Åland     \\\\\n",
       "\t 1744-06-01 & Åland     \\\\\n",
       "\t 1744-07-01 & Åland     \\\\\n",
       "\\end{tabular}\n"
      ],
      "text/markdown": [
       "\n",
       "| dt | Country |\n",
       "|---|---|\n",
       "| 1743-11-01 | Åland      |\n",
       "| 1744-04-01 | Åland      |\n",
       "| 1744-05-01 | Åland      |\n",
       "| 1744-06-01 | Åland      |\n",
       "| 1744-07-01 | Åland      |\n",
       "\n"
      ],
      "text/plain": [
       "  dt         Country\n",
       "1 1743-11-01 Åland  \n",
       "2 1744-04-01 Åland  \n",
       "3 1744-05-01 Åland  \n",
       "4 1744-06-01 Åland  \n",
       "5 1744-07-01 Åland  "
      ]
     },
     "metadata": {},
     "output_type": "display_data"
    }
   ],
   "source": [
    "head(select(mydata, dt, Country), n=5)"
   ]
  },
  {
   "cell_type": "markdown",
   "metadata": {},
   "source": [
    "***\n",
    "\n",
    "### filter ( ): selects cases based on conditions"
   ]
  },
  {
   "cell_type": "code",
   "execution_count": 14,
   "metadata": {},
   "outputs": [
    {
     "data": {
      "text/html": [
       "<table>\n",
       "<thead><tr><th scope=col>dt</th><th scope=col>AverageTemperature</th><th scope=col>AverageTemperatureUncertainty</th><th scope=col>Country</th></tr></thead>\n",
       "<tbody>\n",
       "\t<tr><td>1768-09-01</td><td>  5.257   </td><td>3.107     </td><td>Canada    </td></tr>\n",
       "\t<tr><td>1768-10-01</td><td> -3.393   </td><td>2.981     </td><td>Canada    </td></tr>\n",
       "\t<tr><td>1768-11-01</td><td>-12.829   </td><td>3.967     </td><td>Canada    </td></tr>\n",
       "\t<tr><td>1768-12-01</td><td>-20.582   </td><td>4.622     </td><td>Canada    </td></tr>\n",
       "\t<tr><td>1769-01-01</td><td>-24.756   </td><td>4.722     </td><td>Canada    </td></tr>\n",
       "\t<tr><td>1769-02-01</td><td>-22.915   </td><td>2.871     </td><td>Canada    </td></tr>\n",
       "</tbody>\n",
       "</table>\n"
      ],
      "text/latex": [
       "\\begin{tabular}{r|llll}\n",
       " dt & AverageTemperature & AverageTemperatureUncertainty & Country\\\\\n",
       "\\hline\n",
       "\t 1768-09-01 &   5.257    & 3.107      & Canada    \\\\\n",
       "\t 1768-10-01 &  -3.393    & 2.981      & Canada    \\\\\n",
       "\t 1768-11-01 & -12.829    & 3.967      & Canada    \\\\\n",
       "\t 1768-12-01 & -20.582    & 4.622      & Canada    \\\\\n",
       "\t 1769-01-01 & -24.756    & 4.722      & Canada    \\\\\n",
       "\t 1769-02-01 & -22.915    & 2.871      & Canada    \\\\\n",
       "\\end{tabular}\n"
      ],
      "text/markdown": [
       "\n",
       "| dt | AverageTemperature | AverageTemperatureUncertainty | Country |\n",
       "|---|---|---|---|\n",
       "| 1768-09-01 |   5.257    | 3.107      | Canada     |\n",
       "| 1768-10-01 |  -3.393    | 2.981      | Canada     |\n",
       "| 1768-11-01 | -12.829    | 3.967      | Canada     |\n",
       "| 1768-12-01 | -20.582    | 4.622      | Canada     |\n",
       "| 1769-01-01 | -24.756    | 4.722      | Canada     |\n",
       "| 1769-02-01 | -22.915    | 2.871      | Canada     |\n",
       "\n"
      ],
      "text/plain": [
       "  dt         AverageTemperature AverageTemperatureUncertainty Country\n",
       "1 1768-09-01   5.257            3.107                         Canada \n",
       "2 1768-10-01  -3.393            2.981                         Canada \n",
       "3 1768-11-01 -12.829            3.967                         Canada \n",
       "4 1768-12-01 -20.582            4.622                         Canada \n",
       "5 1769-01-01 -24.756            4.722                         Canada \n",
       "6 1769-02-01 -22.915            2.871                         Canada "
      ]
     },
     "metadata": {},
     "output_type": "display_data"
    }
   ],
   "source": [
    "head(filter(mydata, Country==\"Canada\"))"
   ]
  },
  {
   "cell_type": "markdown",
   "metadata": {},
   "source": [
    "### filter may accept more than one condition"
   ]
  },
  {
   "cell_type": "code",
   "execution_count": 15,
   "metadata": {},
   "outputs": [
    {
     "data": {
      "text/html": [
       "<table>\n",
       "<thead><tr><th scope=col>dt</th><th scope=col>AverageTemperature</th><th scope=col>AverageTemperatureUncertainty</th><th scope=col>Country</th></tr></thead>\n",
       "<tbody>\n",
       "\t<tr><td>1768-09-01</td><td>  5.257   </td><td>3.107     </td><td>Canada    </td></tr>\n",
       "\t<tr><td>1768-10-01</td><td> -3.393   </td><td>2.981     </td><td>Canada    </td></tr>\n",
       "\t<tr><td>1768-11-01</td><td>-12.829   </td><td>3.967     </td><td>Canada    </td></tr>\n",
       "\t<tr><td>1768-12-01</td><td>-20.582   </td><td>4.622     </td><td>Canada    </td></tr>\n",
       "\t<tr><td>1769-01-01</td><td>-24.756   </td><td>4.722     </td><td>Canada    </td></tr>\n",
       "\t<tr><td>1769-02-01</td><td>-22.915   </td><td>2.871     </td><td>Canada    </td></tr>\n",
       "</tbody>\n",
       "</table>\n"
      ],
      "text/latex": [
       "\\begin{tabular}{r|llll}\n",
       " dt & AverageTemperature & AverageTemperatureUncertainty & Country\\\\\n",
       "\\hline\n",
       "\t 1768-09-01 &   5.257    & 3.107      & Canada    \\\\\n",
       "\t 1768-10-01 &  -3.393    & 2.981      & Canada    \\\\\n",
       "\t 1768-11-01 & -12.829    & 3.967      & Canada    \\\\\n",
       "\t 1768-12-01 & -20.582    & 4.622      & Canada    \\\\\n",
       "\t 1769-01-01 & -24.756    & 4.722      & Canada    \\\\\n",
       "\t 1769-02-01 & -22.915    & 2.871      & Canada    \\\\\n",
       "\\end{tabular}\n"
      ],
      "text/markdown": [
       "\n",
       "| dt | AverageTemperature | AverageTemperatureUncertainty | Country |\n",
       "|---|---|---|---|\n",
       "| 1768-09-01 |   5.257    | 3.107      | Canada     |\n",
       "| 1768-10-01 |  -3.393    | 2.981      | Canada     |\n",
       "| 1768-11-01 | -12.829    | 3.967      | Canada     |\n",
       "| 1768-12-01 | -20.582    | 4.622      | Canada     |\n",
       "| 1769-01-01 | -24.756    | 4.722      | Canada     |\n",
       "| 1769-02-01 | -22.915    | 2.871      | Canada     |\n",
       "\n"
      ],
      "text/plain": [
       "  dt         AverageTemperature AverageTemperatureUncertainty Country\n",
       "1 1768-09-01   5.257            3.107                         Canada \n",
       "2 1768-10-01  -3.393            2.981                         Canada \n",
       "3 1768-11-01 -12.829            3.967                         Canada \n",
       "4 1768-12-01 -20.582            4.622                         Canada \n",
       "5 1769-01-01 -24.756            4.722                         Canada \n",
       "6 1769-02-01 -22.915            2.871                         Canada "
      ]
     },
     "metadata": {},
     "output_type": "display_data"
    }
   ],
   "source": [
    "head(filter(mydata, Country==\"Canada\" | Country == \"China\"))"
   ]
  },
  {
   "cell_type": "code",
   "execution_count": 16,
   "metadata": {},
   "outputs": [
    {
     "data": {
      "text/html": [
       "<table>\n",
       "<thead><tr><th scope=col>dt</th><th scope=col>AverageTemperature</th><th scope=col>AverageTemperatureUncertainty</th><th scope=col>Country</th></tr></thead>\n",
       "<tbody>\n",
       "\t<tr><td>1769-07-01</td><td>13.953    </td><td>2.945     </td><td>Canada    </td></tr>\n",
       "\t<tr><td>1775-07-01</td><td>12.797    </td><td>2.343     </td><td>Canada    </td></tr>\n",
       "\t<tr><td>1776-08-01</td><td>12.487    </td><td>3.137     </td><td>Canada    </td></tr>\n",
       "\t<tr><td>1780-07-01</td><td>14.635    </td><td>2.816     </td><td>Canada    </td></tr>\n",
       "\t<tr><td>1782-07-01</td><td>12.307    </td><td>4.053     </td><td>Canada    </td></tr>\n",
       "\t<tr><td>1796-07-01</td><td>12.637    </td><td>3.010     </td><td>Canada    </td></tr>\n",
       "</tbody>\n",
       "</table>\n"
      ],
      "text/latex": [
       "\\begin{tabular}{r|llll}\n",
       " dt & AverageTemperature & AverageTemperatureUncertainty & Country\\\\\n",
       "\\hline\n",
       "\t 1769-07-01 & 13.953     & 2.945      & Canada    \\\\\n",
       "\t 1775-07-01 & 12.797     & 2.343      & Canada    \\\\\n",
       "\t 1776-08-01 & 12.487     & 3.137      & Canada    \\\\\n",
       "\t 1780-07-01 & 14.635     & 2.816      & Canada    \\\\\n",
       "\t 1782-07-01 & 12.307     & 4.053      & Canada    \\\\\n",
       "\t 1796-07-01 & 12.637     & 3.010      & Canada    \\\\\n",
       "\\end{tabular}\n"
      ],
      "text/markdown": [
       "\n",
       "| dt | AverageTemperature | AverageTemperatureUncertainty | Country |\n",
       "|---|---|---|---|\n",
       "| 1769-07-01 | 13.953     | 2.945      | Canada     |\n",
       "| 1775-07-01 | 12.797     | 2.343      | Canada     |\n",
       "| 1776-08-01 | 12.487     | 3.137      | Canada     |\n",
       "| 1780-07-01 | 14.635     | 2.816      | Canada     |\n",
       "| 1782-07-01 | 12.307     | 4.053      | Canada     |\n",
       "| 1796-07-01 | 12.637     | 3.010      | Canada     |\n",
       "\n"
      ],
      "text/plain": [
       "  dt         AverageTemperature AverageTemperatureUncertainty Country\n",
       "1 1769-07-01 13.953             2.945                         Canada \n",
       "2 1775-07-01 12.797             2.343                         Canada \n",
       "3 1776-08-01 12.487             3.137                         Canada \n",
       "4 1780-07-01 14.635             2.816                         Canada \n",
       "5 1782-07-01 12.307             4.053                         Canada \n",
       "6 1796-07-01 12.637             3.010                         Canada "
      ]
     },
     "metadata": {},
     "output_type": "display_data"
    }
   ],
   "source": [
    "head(filter(mydata, Country==\"Canada\" & AverageTemperature > 12))"
   ]
  },
  {
   "cell_type": "markdown",
   "metadata": {},
   "source": [
    "***\n",
    "\n",
    "### mutate( ): adds new variables\n",
    "\n",
    "#### Adding column representing the year"
   ]
  },
  {
   "cell_type": "code",
   "execution_count": 17,
   "metadata": {},
   "outputs": [],
   "source": [
    "mydata <- mutate(mydata, year = as.numeric(format(dt, \"%Y\")))"
   ]
  },
  {
   "cell_type": "code",
   "execution_count": 18,
   "metadata": {},
   "outputs": [
    {
     "data": {
      "text/html": [
       "<table>\n",
       "<thead><tr><th scope=col>dt</th><th scope=col>AverageTemperature</th><th scope=col>AverageTemperatureUncertainty</th><th scope=col>Country</th><th scope=col>year</th></tr></thead>\n",
       "<tbody>\n",
       "\t<tr><td>1743-11-01</td><td> 4.384    </td><td>2.294     </td><td>Åland     </td><td>1743      </td></tr>\n",
       "\t<tr><td>1744-04-01</td><td> 1.530    </td><td>4.680     </td><td>Åland     </td><td>1744      </td></tr>\n",
       "\t<tr><td>1744-05-01</td><td> 6.702    </td><td>1.789     </td><td>Åland     </td><td>1744      </td></tr>\n",
       "\t<tr><td>1744-06-01</td><td>11.609    </td><td>1.577     </td><td>Åland     </td><td>1744      </td></tr>\n",
       "\t<tr><td>1744-07-01</td><td>15.342    </td><td>1.410     </td><td>Åland     </td><td>1744      </td></tr>\n",
       "\t<tr><td>1744-09-01</td><td>11.702    </td><td>1.517     </td><td>Åland     </td><td>1744      </td></tr>\n",
       "</tbody>\n",
       "</table>\n"
      ],
      "text/latex": [
       "\\begin{tabular}{r|lllll}\n",
       " dt & AverageTemperature & AverageTemperatureUncertainty & Country & year\\\\\n",
       "\\hline\n",
       "\t 1743-11-01 &  4.384     & 2.294      & Åland      & 1743      \\\\\n",
       "\t 1744-04-01 &  1.530     & 4.680      & Åland      & 1744      \\\\\n",
       "\t 1744-05-01 &  6.702     & 1.789      & Åland      & 1744      \\\\\n",
       "\t 1744-06-01 & 11.609     & 1.577      & Åland      & 1744      \\\\\n",
       "\t 1744-07-01 & 15.342     & 1.410      & Åland      & 1744      \\\\\n",
       "\t 1744-09-01 & 11.702     & 1.517      & Åland      & 1744      \\\\\n",
       "\\end{tabular}\n"
      ],
      "text/markdown": [
       "\n",
       "| dt | AverageTemperature | AverageTemperatureUncertainty | Country | year |\n",
       "|---|---|---|---|---|\n",
       "| 1743-11-01 |  4.384     | 2.294      | Åland      | 1743       |\n",
       "| 1744-04-01 |  1.530     | 4.680      | Åland      | 1744       |\n",
       "| 1744-05-01 |  6.702     | 1.789      | Åland      | 1744       |\n",
       "| 1744-06-01 | 11.609     | 1.577      | Åland      | 1744       |\n",
       "| 1744-07-01 | 15.342     | 1.410      | Åland      | 1744       |\n",
       "| 1744-09-01 | 11.702     | 1.517      | Åland      | 1744       |\n",
       "\n"
      ],
      "text/plain": [
       "  dt         AverageTemperature AverageTemperatureUncertainty Country year\n",
       "1 1743-11-01  4.384             2.294                         Åland   1743\n",
       "2 1744-04-01  1.530             4.680                         Åland   1744\n",
       "3 1744-05-01  6.702             1.789                         Åland   1744\n",
       "4 1744-06-01 11.609             1.577                         Åland   1744\n",
       "5 1744-07-01 15.342             1.410                         Åland   1744\n",
       "6 1744-09-01 11.702             1.517                         Åland   1744"
      ]
     },
     "metadata": {},
     "output_type": "display_data"
    }
   ],
   "source": [
    "head(mydata)"
   ]
  },
  {
   "cell_type": "code",
   "execution_count": 19,
   "metadata": {},
   "outputs": [
    {
     "data": {
      "text/html": [
       "TRUE"
      ],
      "text/latex": [
       "TRUE"
      ],
      "text/markdown": [
       "TRUE"
      ],
      "text/plain": [
       "[1] TRUE"
      ]
     },
     "metadata": {},
     "output_type": "display_data"
    }
   ],
   "source": [
    "is.numeric(mydata$year)"
   ]
  },
  {
   "cell_type": "markdown",
   "metadata": {},
   "source": [
    "**Whait? What?**\n",
    "\n",
    "Command breakdown:\n",
    "\n",
    "The commands below should be run on RStudio:"
   ]
  },
  {
   "cell_type": "markdown",
   "metadata": {},
   "source": [
    "```\n",
    "format(mydata$dt, \"%Y\")\n",
    "as.numeric(format(mydata$dt, \"%Y\"))\n",
    "mutate(mydata, year = as.numeric(format(dt, \"%Y\")))\n",
    "mydata <- mutate(mydata, year = as.numeric(format(dt, \"%Y\")))\n",
    "```"
   ]
  },
  {
   "cell_type": "markdown",
   "metadata": {},
   "source": [
    "***\n",
    "\n",
    "#### Adding column representing the industrial era"
   ]
  },
  {
   "cell_type": "code",
   "execution_count": 20,
   "metadata": {},
   "outputs": [
    {
     "data": {
      "text/html": [
       "<table>\n",
       "<thead><tr><th scope=col>dt</th><th scope=col>AverageTemperature</th><th scope=col>AverageTemperatureUncertainty</th><th scope=col>Country</th><th scope=col>year</th><th scope=col>era</th></tr></thead>\n",
       "<tbody>\n",
       "\t<tr><td>1743-11-01   </td><td> 4.384       </td><td>2.294        </td><td>Åland        </td><td>1743         </td><td>gas &amp; oil</td></tr>\n",
       "\t<tr><td>1744-04-01   </td><td> 1.530       </td><td>4.680        </td><td>Åland        </td><td>1744         </td><td>gas &amp; oil</td></tr>\n",
       "\t<tr><td>1744-05-01   </td><td> 6.702       </td><td>1.789        </td><td>Åland        </td><td>1744         </td><td>gas &amp; oil</td></tr>\n",
       "\t<tr><td>1744-06-01   </td><td>11.609       </td><td>1.577        </td><td>Åland        </td><td>1744         </td><td>gas &amp; oil</td></tr>\n",
       "\t<tr><td>1744-07-01   </td><td>15.342       </td><td>1.410        </td><td>Åland        </td><td>1744         </td><td>gas &amp; oil</td></tr>\n",
       "</tbody>\n",
       "</table>\n"
      ],
      "text/latex": [
       "\\begin{tabular}{r|llllll}\n",
       " dt & AverageTemperature & AverageTemperatureUncertainty & Country & year & era\\\\\n",
       "\\hline\n",
       "\t 1743-11-01  &  4.384      & 2.294       & Åland       & 1743        & gas \\& oil\\\\\n",
       "\t 1744-04-01  &  1.530      & 4.680       & Åland       & 1744        & gas \\& oil\\\\\n",
       "\t 1744-05-01  &  6.702      & 1.789       & Åland       & 1744        & gas \\& oil\\\\\n",
       "\t 1744-06-01  & 11.609      & 1.577       & Åland       & 1744        & gas \\& oil\\\\\n",
       "\t 1744-07-01  & 15.342      & 1.410       & Åland       & 1744        & gas \\& oil\\\\\n",
       "\\end{tabular}\n"
      ],
      "text/markdown": [
       "\n",
       "| dt | AverageTemperature | AverageTemperatureUncertainty | Country | year | era |\n",
       "|---|---|---|---|---|---|\n",
       "| 1743-11-01 |  4.384     | 2.294      | Åland      | 1743       | gas & oil  |\n",
       "| 1744-04-01 |  1.530     | 4.680      | Åland      | 1744       | gas & oil  |\n",
       "| 1744-05-01 |  6.702     | 1.789      | Åland      | 1744       | gas & oil  |\n",
       "| 1744-06-01 | 11.609     | 1.577      | Åland      | 1744       | gas & oil  |\n",
       "| 1744-07-01 | 15.342     | 1.410      | Åland      | 1744       | gas & oil  |\n",
       "\n"
      ],
      "text/plain": [
       "  dt         AverageTemperature AverageTemperatureUncertainty Country year\n",
       "1 1743-11-01  4.384             2.294                         Åland   1743\n",
       "2 1744-04-01  1.530             4.680                         Åland   1744\n",
       "3 1744-05-01  6.702             1.789                         Åland   1744\n",
       "4 1744-06-01 11.609             1.577                         Åland   1744\n",
       "5 1744-07-01 15.342             1.410                         Åland   1744\n",
       "  era      \n",
       "1 gas & oil\n",
       "2 gas & oil\n",
       "3 gas & oil\n",
       "4 gas & oil\n",
       "5 gas & oil"
      ]
     },
     "metadata": {},
     "output_type": "display_data"
    }
   ],
   "source": [
    "mydata <- mutate(mydata, era=if_else(\n",
    "    year <= 1969, \"gas & oil\", \"electronic\",\n",
    "))\n",
    "\n",
    "head(mydata, n=5)"
   ]
  },
  {
   "cell_type": "code",
   "execution_count": 21,
   "metadata": {},
   "outputs": [
    {
     "data": {
      "text/html": [
       "<table>\n",
       "<thead><tr><th scope=col>dt</th><th scope=col>AverageTemperature</th><th scope=col>AverageTemperatureUncertainty</th><th scope=col>Country</th><th scope=col>year</th><th scope=col>era</th></tr></thead>\n",
       "<tbody>\n",
       "\t<tr><td>2013-04-01</td><td>21.142    </td><td>0.495     </td><td>Zimbabwe  </td><td>2013      </td><td>electronic</td></tr>\n",
       "\t<tr><td>2013-05-01</td><td>19.059    </td><td>1.022     </td><td>Zimbabwe  </td><td>2013      </td><td>electronic</td></tr>\n",
       "\t<tr><td>2013-06-01</td><td>17.613    </td><td>0.473     </td><td>Zimbabwe  </td><td>2013      </td><td>electronic</td></tr>\n",
       "\t<tr><td>2013-07-01</td><td>17.000    </td><td>0.453     </td><td>Zimbabwe  </td><td>2013      </td><td>electronic</td></tr>\n",
       "\t<tr><td>2013-08-01</td><td>19.759    </td><td>0.717     </td><td>Zimbabwe  </td><td>2013      </td><td>electronic</td></tr>\n",
       "</tbody>\n",
       "</table>\n"
      ],
      "text/latex": [
       "\\begin{tabular}{r|llllll}\n",
       " dt & AverageTemperature & AverageTemperatureUncertainty & Country & year & era\\\\\n",
       "\\hline\n",
       "\t 2013-04-01 & 21.142     & 0.495      & Zimbabwe   & 2013       & electronic\\\\\n",
       "\t 2013-05-01 & 19.059     & 1.022      & Zimbabwe   & 2013       & electronic\\\\\n",
       "\t 2013-06-01 & 17.613     & 0.473      & Zimbabwe   & 2013       & electronic\\\\\n",
       "\t 2013-07-01 & 17.000     & 0.453      & Zimbabwe   & 2013       & electronic\\\\\n",
       "\t 2013-08-01 & 19.759     & 0.717      & Zimbabwe   & 2013       & electronic\\\\\n",
       "\\end{tabular}\n"
      ],
      "text/markdown": [
       "\n",
       "| dt | AverageTemperature | AverageTemperatureUncertainty | Country | year | era |\n",
       "|---|---|---|---|---|---|\n",
       "| 2013-04-01 | 21.142     | 0.495      | Zimbabwe   | 2013       | electronic |\n",
       "| 2013-05-01 | 19.059     | 1.022      | Zimbabwe   | 2013       | electronic |\n",
       "| 2013-06-01 | 17.613     | 0.473      | Zimbabwe   | 2013       | electronic |\n",
       "| 2013-07-01 | 17.000     | 0.453      | Zimbabwe   | 2013       | electronic |\n",
       "| 2013-08-01 | 19.759     | 0.717      | Zimbabwe   | 2013       | electronic |\n",
       "\n"
      ],
      "text/plain": [
       "  dt         AverageTemperature AverageTemperatureUncertainty Country  year\n",
       "1 2013-04-01 21.142             0.495                         Zimbabwe 2013\n",
       "2 2013-05-01 19.059             1.022                         Zimbabwe 2013\n",
       "3 2013-06-01 17.613             0.473                         Zimbabwe 2013\n",
       "4 2013-07-01 17.000             0.453                         Zimbabwe 2013\n",
       "5 2013-08-01 19.759             0.717                         Zimbabwe 2013\n",
       "  era       \n",
       "1 electronic\n",
       "2 electronic\n",
       "3 electronic\n",
       "4 electronic\n",
       "5 electronic"
      ]
     },
     "metadata": {},
     "output_type": "display_data"
    }
   ],
   "source": [
    "tail(mydata, n=5)"
   ]
  },
  {
   "cell_type": "markdown",
   "metadata": {},
   "source": [
    "***\n",
    "\n",
    "# Descriptive Statistics\n",
    "\n",
    "<img src=\"figures/learning_objectives.png\">"
   ]
  },
  {
   "cell_type": "markdown",
   "metadata": {},
   "source": [
    "### Descriptive stat with basic summary function"
   ]
  },
  {
   "cell_type": "code",
   "execution_count": 22,
   "metadata": {},
   "outputs": [
    {
     "data": {
      "text/plain": [
       "       dt             AverageTemperature AverageTemperatureUncertainty\n",
       " Min.   :1743-11-01   Min.   :-37.66     Min.   : 0.052               \n",
       " 1st Qu.:1869-11-01   1st Qu.: 10.03     1st Qu.: 0.323               \n",
       " Median :1919-08-01   Median : 20.90     Median : 0.571               \n",
       " Mean   :1913-08-08   Mean   : 17.19     Mean   : 1.019               \n",
       " 3rd Qu.:1966-10-01   3rd Qu.: 25.81     3rd Qu.: 1.207               \n",
       " Max.   :2013-09-01   Max.   : 38.84     Max.   :15.003               \n",
       "                                                                      \n",
       "    Country            year          era           \n",
       " Åland  :  3166   Min.   :1743   Length:544811     \n",
       " Albania:  3166   1st Qu.:1869   Class :character  \n",
       " Andorra:  3166   Median :1919   Mode  :character  \n",
       " Austria:  3166   Mean   :1913                     \n",
       " Belarus:  3166   3rd Qu.:1966                     \n",
       " Belgium:  3166   Max.   :2013                     \n",
       " (Other):525815                                    "
      ]
     },
     "metadata": {},
     "output_type": "display_data"
    }
   ],
   "source": [
    "summary(mydata)"
   ]
  },
  {
   "cell_type": "markdown",
   "metadata": {},
   "source": [
    "***\n",
    "\n",
    "### Descriptive statistics with visualization \n",
    "\n",
    "#### Create histogram for “year” "
   ]
  },
  {
   "cell_type": "code",
   "execution_count": 23,
   "metadata": {},
   "outputs": [
    {
     "data": {
      "image/png": "[encoded data removed]",
      "text/plain": [
       "Plot with title “Histogram of mydata$year”"
      ]
     },
     "metadata": {},
     "output_type": "display_data"
    }
   ],
   "source": [
    "hist(mydata$year)"
   ]
  },
  {
   "cell_type": "markdown",
   "metadata": {},
   "source": [
    "***\n",
    "\n",
    "#### Create histogram for “Countries” "
   ]
  },
  {
   "cell_type": "code",
   "execution_count": 24,
   "metadata": {},
   "outputs": [
    {
     "data": {
      "image/png": "[encoded data removed]",
      "text/plain": [
       "plot without title"
      ]
     },
     "metadata": {},
     "output_type": "display_data"
    }
   ],
   "source": [
    "barplot(table(mydata$era))"
   ]
  },
  {
   "cell_type": "markdown",
   "metadata": {},
   "source": [
    "***\n",
    "\n",
    "### More visualization functions with “ggplot2”"
   ]
  },
  {
   "cell_type": "markdown",
   "metadata": {},
   "source": [
    "Try to run this command:\n",
    "\n",
    "```\n",
    "ggplot(data=mydata, aes(x=year, y=AverageTemperature)) + geom_line()\n",
    "```"
   ]
  },
  {
   "cell_type": "markdown",
   "metadata": {},
   "source": [
    "<img src=\"figures/staring.jpg\">"
   ]
  },
  {
   "cell_type": "markdown",
   "metadata": {},
   "source": [
    "### Can we do better? \n",
    "\n",
    "What if we can create smaller data with the year and the average temperature of that year?"
   ]
  },
  {
   "cell_type": "code",
   "execution_count": 25,
   "metadata": {},
   "outputs": [],
   "source": [
    "grouped_data <- mydata  %>%\n",
    "    group_by(year) %>%\n",
    "    summarise(avg_temp = mean(AverageTemperature))"
   ]
  },
  {
   "cell_type": "code",
   "execution_count": 26,
   "metadata": {},
   "outputs": [
    {
     "data": {
      "text/html": [
       "<table>\n",
       "<thead><tr><th scope=col>year</th><th scope=col>avg_temp</th></tr></thead>\n",
       "<tbody>\n",
       "\t<tr><td>1743    </td><td>5.184140</td></tr>\n",
       "\t<tr><td>1744    </td><td>9.837898</td></tr>\n",
       "\t<tr><td>1745    </td><td>1.387125</td></tr>\n",
       "\t<tr><td>1750    </td><td>9.129353</td></tr>\n",
       "\t<tr><td>1751    </td><td>9.167388</td></tr>\n",
       "\t<tr><td>1752    </td><td>4.413387</td></tr>\n",
       "</tbody>\n",
       "</table>\n"
      ],
      "text/latex": [
       "\\begin{tabular}{r|ll}\n",
       " year & avg\\_temp\\\\\n",
       "\\hline\n",
       "\t 1743     & 5.184140\\\\\n",
       "\t 1744     & 9.837898\\\\\n",
       "\t 1745     & 1.387125\\\\\n",
       "\t 1750     & 9.129353\\\\\n",
       "\t 1751     & 9.167388\\\\\n",
       "\t 1752     & 4.413387\\\\\n",
       "\\end{tabular}\n"
      ],
      "text/markdown": [
       "\n",
       "| year | avg_temp |\n",
       "|---|---|\n",
       "| 1743     | 5.184140 |\n",
       "| 1744     | 9.837898 |\n",
       "| 1745     | 1.387125 |\n",
       "| 1750     | 9.129353 |\n",
       "| 1751     | 9.167388 |\n",
       "| 1752     | 4.413387 |\n",
       "\n"
      ],
      "text/plain": [
       "  year avg_temp\n",
       "1 1743 5.184140\n",
       "2 1744 9.837898\n",
       "3 1745 1.387125\n",
       "4 1750 9.129353\n",
       "5 1751 9.167388\n",
       "6 1752 4.413387"
      ]
     },
     "metadata": {},
     "output_type": "display_data"
    }
   ],
   "source": [
    "head(grouped_data)"
   ]
  },
  {
   "cell_type": "code",
   "execution_count": 27,
   "metadata": {},
   "outputs": [
    {
     "data": {
      "image/png": "[encoded data removed]",
      "text/plain": [
       "plot without title"
      ]
     },
     "metadata": {},
     "output_type": "display_data"
    }
   ],
   "source": [
    "ggplot(data=grouped_data, aes(x=year, y=avg_temp)) +\n",
    "  geom_line()"
   ]
  },
  {
   "cell_type": "markdown",
   "metadata": {},
   "source": [
    "# Exercise\n",
    "\n",
    "## If we are on track, try to:\n",
    "\n",
    "\n",
    "### 1. load carbon dioxide data\n",
    "\n",
    "### 2. remove NA\n",
    "\n",
    "### 3. Change column \"CarbonDioxide\" to numeric\n",
    "\n",
    "### 4. Change column \"year\" to numeric\n",
    "\n",
    "### view the data using the head( )  and tail( ) commands\n",
    "\n",
    "\n",
    "<br><br><br><br>\n",
    "\n",
    "\n",
    "## Don't spoil the fun. The stick figure is watching you\n",
    "\n",
    "\n",
    "<br><br><br><br>\n",
    "\n",
    "\n",
    "<img src=\"figures/watch.png\" width=\"30%\">\n",
    "\n",
    "### Answer:"
   ]
  },
  {
   "cell_type": "code",
   "execution_count": 28,
   "metadata": {},
   "outputs": [
    {
     "name": "stderr",
     "output_type": "stream",
     "text": [
      "Parsed with column specification:\n",
      "cols(\n",
      "  year = col_double(),\n",
      "  Month = col_double(),\n",
      "  DecimalDate = col_double(),\n",
      "  CarbonDioxide = col_double(),\n",
      "  SeasonallyAdjustedCO2 = col_double(),\n",
      "  CarbonDioxideFit = col_double(),\n",
      "  SeasonallyAdjustedCO2Fit = col_double()\n",
      ")\n"
     ]
    }
   ],
   "source": [
    "carbon <- read_csv(\"CarbonDioxideEmission.csv\")"
   ]
  },
  {
   "cell_type": "code",
   "execution_count": 29,
   "metadata": {},
   "outputs": [
    {
     "data": {
      "text/html": [
       "<table>\n",
       "<thead><tr><th scope=col>year</th><th scope=col>Month</th><th scope=col>DecimalDate</th><th scope=col>CarbonDioxide</th><th scope=col>SeasonallyAdjustedCO2</th><th scope=col>CarbonDioxideFit</th><th scope=col>SeasonallyAdjustedCO2Fit</th></tr></thead>\n",
       "<tbody>\n",
       "\t<tr><td>1958    </td><td>3       </td><td>1958.203</td><td>315.69  </td><td>314.42  </td><td>316.18  </td><td>314.89  </td></tr>\n",
       "\t<tr><td>1958    </td><td>4       </td><td>1958.288</td><td>317.45  </td><td>315.15  </td><td>317.30  </td><td>314.98  </td></tr>\n",
       "\t<tr><td>1958    </td><td>5       </td><td>1958.370</td><td>317.50  </td><td>314.73  </td><td>317.83  </td><td>315.06  </td></tr>\n",
       "\t<tr><td>1958    </td><td>7       </td><td>1958.537</td><td>315.86  </td><td>315.17  </td><td>315.87  </td><td>315.21  </td></tr>\n",
       "\t<tr><td>1958    </td><td>8       </td><td>1958.622</td><td>314.93  </td><td>316.17  </td><td>314.01  </td><td>315.29  </td></tr>\n",
       "\t<tr><td>1958    </td><td>9       </td><td>1958.707</td><td>313.21  </td><td>316.06  </td><td>312.48  </td><td>315.35  </td></tr>\n",
       "</tbody>\n",
       "</table>\n"
      ],
      "text/latex": [
       "\\begin{tabular}{r|lllllll}\n",
       " year & Month & DecimalDate & CarbonDioxide & SeasonallyAdjustedCO2 & CarbonDioxideFit & SeasonallyAdjustedCO2Fit\\\\\n",
       "\\hline\n",
       "\t 1958     & 3        & 1958.203 & 315.69   & 314.42   & 316.18   & 314.89  \\\\\n",
       "\t 1958     & 4        & 1958.288 & 317.45   & 315.15   & 317.30   & 314.98  \\\\\n",
       "\t 1958     & 5        & 1958.370 & 317.50   & 314.73   & 317.83   & 315.06  \\\\\n",
       "\t 1958     & 7        & 1958.537 & 315.86   & 315.17   & 315.87   & 315.21  \\\\\n",
       "\t 1958     & 8        & 1958.622 & 314.93   & 316.17   & 314.01   & 315.29  \\\\\n",
       "\t 1958     & 9        & 1958.707 & 313.21   & 316.06   & 312.48   & 315.35  \\\\\n",
       "\\end{tabular}\n"
      ],
      "text/markdown": [
       "\n",
       "| year | Month | DecimalDate | CarbonDioxide | SeasonallyAdjustedCO2 | CarbonDioxideFit | SeasonallyAdjustedCO2Fit |\n",
       "|---|---|---|---|---|---|---|\n",
       "| 1958     | 3        | 1958.203 | 315.69   | 314.42   | 316.18   | 314.89   |\n",
       "| 1958     | 4        | 1958.288 | 317.45   | 315.15   | 317.30   | 314.98   |\n",
       "| 1958     | 5        | 1958.370 | 317.50   | 314.73   | 317.83   | 315.06   |\n",
       "| 1958     | 7        | 1958.537 | 315.86   | 315.17   | 315.87   | 315.21   |\n",
       "| 1958     | 8        | 1958.622 | 314.93   | 316.17   | 314.01   | 315.29   |\n",
       "| 1958     | 9        | 1958.707 | 313.21   | 316.06   | 312.48   | 315.35   |\n",
       "\n"
      ],
      "text/plain": [
       "  year Month DecimalDate CarbonDioxide SeasonallyAdjustedCO2 CarbonDioxideFit\n",
       "1 1958 3     1958.203    315.69        314.42                316.18          \n",
       "2 1958 4     1958.288    317.45        315.15                317.30          \n",
       "3 1958 5     1958.370    317.50        314.73                317.83          \n",
       "4 1958 7     1958.537    315.86        315.17                315.87          \n",
       "5 1958 8     1958.622    314.93        316.17                314.01          \n",
       "6 1958 9     1958.707    313.21        316.06                312.48          \n",
       "  SeasonallyAdjustedCO2Fit\n",
       "1 314.89                  \n",
       "2 314.98                  \n",
       "3 315.06                  \n",
       "4 315.21                  \n",
       "5 315.29                  \n",
       "6 315.35                  "
      ]
     },
     "metadata": {},
     "output_type": "display_data"
    },
    {
     "data": {
      "text/html": [
       "<table>\n",
       "<thead><tr><th scope=col>year</th><th scope=col>Month</th><th scope=col>DecimalDate</th><th scope=col>CarbonDioxide</th><th scope=col>SeasonallyAdjustedCO2</th><th scope=col>CarbonDioxideFit</th><th scope=col>SeasonallyAdjustedCO2Fit</th></tr></thead>\n",
       "<tbody>\n",
       "\t<tr><td>2016    </td><td> 8      </td><td>2016.623</td><td>402.24  </td><td>403.78  </td><td>403.02  </td><td>404.60  </td></tr>\n",
       "\t<tr><td>2016    </td><td> 9      </td><td>2016.708</td><td>401.01  </td><td>404.52  </td><td>401.33  </td><td>404.85  </td></tr>\n",
       "\t<tr><td>2016    </td><td>10      </td><td>2016.790</td><td>401.50  </td><td>405.12  </td><td>401.48  </td><td>405.09  </td></tr>\n",
       "\t<tr><td>2016    </td><td>11      </td><td>2016.874</td><td>403.64  </td><td>405.92  </td><td>403.08  </td><td>405.34  </td></tr>\n",
       "\t<tr><td>2016    </td><td>12      </td><td>2016.956</td><td>404.55  </td><td>405.49  </td><td>404.66  </td><td>405.58  </td></tr>\n",
       "\t<tr><td>2017    </td><td> 1      </td><td>2017.041</td><td>406.07  </td><td>406.04  </td><td>405.87  </td><td>405.83  </td></tr>\n",
       "</tbody>\n",
       "</table>\n"
      ],
      "text/latex": [
       "\\begin{tabular}{r|lllllll}\n",
       " year & Month & DecimalDate & CarbonDioxide & SeasonallyAdjustedCO2 & CarbonDioxideFit & SeasonallyAdjustedCO2Fit\\\\\n",
       "\\hline\n",
       "\t 2016     &  8       & 2016.623 & 402.24   & 403.78   & 403.02   & 404.60  \\\\\n",
       "\t 2016     &  9       & 2016.708 & 401.01   & 404.52   & 401.33   & 404.85  \\\\\n",
       "\t 2016     & 10       & 2016.790 & 401.50   & 405.12   & 401.48   & 405.09  \\\\\n",
       "\t 2016     & 11       & 2016.874 & 403.64   & 405.92   & 403.08   & 405.34  \\\\\n",
       "\t 2016     & 12       & 2016.956 & 404.55   & 405.49   & 404.66   & 405.58  \\\\\n",
       "\t 2017     &  1       & 2017.041 & 406.07   & 406.04   & 405.87   & 405.83  \\\\\n",
       "\\end{tabular}\n"
      ],
      "text/markdown": [
       "\n",
       "| year | Month | DecimalDate | CarbonDioxide | SeasonallyAdjustedCO2 | CarbonDioxideFit | SeasonallyAdjustedCO2Fit |\n",
       "|---|---|---|---|---|---|---|\n",
       "| 2016     |  8       | 2016.623 | 402.24   | 403.78   | 403.02   | 404.60   |\n",
       "| 2016     |  9       | 2016.708 | 401.01   | 404.52   | 401.33   | 404.85   |\n",
       "| 2016     | 10       | 2016.790 | 401.50   | 405.12   | 401.48   | 405.09   |\n",
       "| 2016     | 11       | 2016.874 | 403.64   | 405.92   | 403.08   | 405.34   |\n",
       "| 2016     | 12       | 2016.956 | 404.55   | 405.49   | 404.66   | 405.58   |\n",
       "| 2017     |  1       | 2017.041 | 406.07   | 406.04   | 405.87   | 405.83   |\n",
       "\n"
      ],
      "text/plain": [
       "  year Month DecimalDate CarbonDioxide SeasonallyAdjustedCO2 CarbonDioxideFit\n",
       "1 2016  8    2016.623    402.24        403.78                403.02          \n",
       "2 2016  9    2016.708    401.01        404.52                401.33          \n",
       "3 2016 10    2016.790    401.50        405.12                401.48          \n",
       "4 2016 11    2016.874    403.64        405.92                403.08          \n",
       "5 2016 12    2016.956    404.55        405.49                404.66          \n",
       "6 2017  1    2017.041    406.07        406.04                405.87          \n",
       "  SeasonallyAdjustedCO2Fit\n",
       "1 404.60                  \n",
       "2 404.85                  \n",
       "3 405.09                  \n",
       "4 405.34                  \n",
       "5 405.58                  \n",
       "6 405.83                  "
      ]
     },
     "metadata": {},
     "output_type": "display_data"
    }
   ],
   "source": [
    "carbon <- na.omit(carbon)\n",
    "\n",
    "carbon$CarbonDioxide <- as.numeric(carbon$CarbonDioxide)\n",
    "carbon$year <- as.numeric(carbon$year)\n",
    "\n",
    "head(carbon)\n",
    "tail(carbon)"
   ]
  },
  {
   "cell_type": "markdown",
   "metadata": {},
   "source": [
    "# Inference Statistics\n",
    "\n",
    "<img src=\"figures/learning_objectives.png\">"
   ]
  },
  {
   "cell_type": "markdown",
   "metadata": {},
   "source": [
    "## Some housekeeping and background\n",
    "\n",
    "### Copy & run the code below "
   ]
  },
  {
   "cell_type": "code",
   "execution_count": 30,
   "metadata": {},
   "outputs": [
    {
     "data": {
      "text/html": [
       "<table>\n",
       "<thead><tr><th scope=col>year</th><th scope=col>era</th><th scope=col>AverageTemperature</th><th scope=col>AverageCarbonEmission</th></tr></thead>\n",
       "<tbody>\n",
       "\t<tr><td>1958         </td><td>gas &amp; oil</td><td>18.94217     </td><td>315.3300     </td></tr>\n",
       "\t<tr><td>1959         </td><td>gas &amp; oil</td><td>18.82521     </td><td>315.9817     </td></tr>\n",
       "\t<tr><td>1960         </td><td>gas &amp; oil</td><td>18.88701     </td><td>316.9083     </td></tr>\n",
       "\t<tr><td>1961         </td><td>gas &amp; oil</td><td>18.92357     </td><td>317.6450     </td></tr>\n",
       "\t<tr><td>1962         </td><td>gas &amp; oil</td><td>18.69385     </td><td>318.4533     </td></tr>\n",
       "\t<tr><td>1963         </td><td>gas &amp; oil</td><td>18.67525     </td><td>318.9925     </td></tr>\n",
       "</tbody>\n",
       "</table>\n"
      ],
      "text/latex": [
       "\\begin{tabular}{r|llll}\n",
       " year & era & AverageTemperature & AverageCarbonEmission\\\\\n",
       "\\hline\n",
       "\t 1958        & gas \\& oil & 18.94217    & 315.3300   \\\\\n",
       "\t 1959        & gas \\& oil & 18.82521    & 315.9817   \\\\\n",
       "\t 1960        & gas \\& oil & 18.88701    & 316.9083   \\\\\n",
       "\t 1961        & gas \\& oil & 18.92357    & 317.6450   \\\\\n",
       "\t 1962        & gas \\& oil & 18.69385    & 318.4533   \\\\\n",
       "\t 1963        & gas \\& oil & 18.67525    & 318.9925   \\\\\n",
       "\\end{tabular}\n"
      ],
      "text/markdown": [
       "\n",
       "| year | era | AverageTemperature | AverageCarbonEmission |\n",
       "|---|---|---|---|\n",
       "| 1958      | gas & oil | 18.94217  | 315.3300  |\n",
       "| 1959      | gas & oil | 18.82521  | 315.9817  |\n",
       "| 1960      | gas & oil | 18.88701  | 316.9083  |\n",
       "| 1961      | gas & oil | 18.92357  | 317.6450  |\n",
       "| 1962      | gas & oil | 18.69385  | 318.4533  |\n",
       "| 1963      | gas & oil | 18.67525  | 318.9925  |\n",
       "\n"
      ],
      "text/plain": [
       "  year era       AverageTemperature AverageCarbonEmission\n",
       "1 1958 gas & oil 18.94217           315.3300             \n",
       "2 1959 gas & oil 18.82521           315.9817             \n",
       "3 1960 gas & oil 18.88701           316.9083             \n",
       "4 1961 gas & oil 18.92357           317.6450             \n",
       "5 1962 gas & oil 18.69385           318.4533             \n",
       "6 1963 gas & oil 18.67525           318.9925             "
      ]
     },
     "metadata": {},
     "output_type": "display_data"
    }
   ],
   "source": [
    "carbon <- group_by(carbon, year) %>%\n",
    "    summarise(AverageCarbonEmission = mean(CarbonDioxide))\n",
    "\n",
    "newdata <- group_by(mydata, year, era) %>%\n",
    "    summarise(AverageTemperature = mean(AverageTemperature))\n",
    "\n",
    "carbon <- merge(newdata, carbon[, c(\"year\", \"AverageCarbonEmission\")], by=\"year\")\n",
    "head(carbon)"
   ]
  },
  {
   "cell_type": "markdown",
   "metadata": {},
   "source": [
    "### You may want to review this code at home, but for now let's just consider that it merges two datasets\n",
    "\n",
    "A detailed explanation for later reference explained line-by-line:\n",
    "\n",
    "1. the `carbon` data will be updated with the result of the right-hand operation. The right-hand operation groups the dataset by year\n",
    "\n",
    "\n",
    "2. after grouping, we apply the `summarise` to create a column named `carbon` the value of the column is the `mean` of the `CarbonDioxide` emission\n",
    "\n",
    "\n",
    "3. we do a similar grouping operation creating a `newdata` data. \n",
    "\n",
    "\n",
    "4. this time, we are interested in the mean of the `AverageTemperature`\n",
    "\n",
    "\n",
    "5. we now have two variables, one with the `year` and `AverageCarbonEmission` and another with year and `AverageTemperature`. Let's `merge` these two tables in a final `carbon` table. Our merging criteria is the `year` and we will copy two columns from the initial carbon table: `c(\"year\", \"AverageCarbonEmission\")`\n",
    "\n",
    "<br>"
   ]
  },
  {
   "cell_type": "markdown",
   "metadata": {},
   "source": [
    "### Hypothesis testing\n",
    "\n",
    "From [Wikipedia](https://en.wikipedia.org/wiki/Statistical_significance):"
   ]
  },
  {
   "cell_type": "markdown",
   "metadata": {},
   "source": [
    "#### To determine whether a result is statistically significant, a researcher calculates a p-value, which is the probability of observing an effect of the same magnitude or more extreme given that the null hypothesis is true.\n",
    "\n",
    "#### The null hypothesis is rejected if the p-value is less than a predetermined level, α.\n",
    "\n",
    "#### α is called the significance level, and is the probability of rejecting the null hypothesis given that it is true (a type I error). \n",
    "\n",
    "#### α is usually set at or below 5%.\n",
    "\n",
    "<img src=\"figures/normal_curve.png\">"
   ]
  },
  {
   "cell_type": "markdown",
   "metadata": {},
   "source": [
    "## Our null hypotheses\n",
    "\n",
    "### There is no difference in the Average temperature in the `gas & oil` era and the `electronic` era"
   ]
  },
  {
   "cell_type": "code",
   "execution_count": 31,
   "metadata": {},
   "outputs": [
    {
     "data": {
      "text/html": [
       "<table>\n",
       "<thead><tr><th scope=col>dt</th><th scope=col>AverageTemperature</th><th scope=col>AverageTemperatureUncertainty</th><th scope=col>Country</th><th scope=col>year</th><th scope=col>era</th></tr></thead>\n",
       "<tbody>\n",
       "\t<tr><td>1743-11-01   </td><td> 4.384       </td><td>2.294        </td><td>Åland        </td><td>1743         </td><td>gas &amp; oil</td></tr>\n",
       "\t<tr><td>1744-04-01   </td><td> 1.530       </td><td>4.680        </td><td>Åland        </td><td>1744         </td><td>gas &amp; oil</td></tr>\n",
       "\t<tr><td>1744-05-01   </td><td> 6.702       </td><td>1.789        </td><td>Åland        </td><td>1744         </td><td>gas &amp; oil</td></tr>\n",
       "\t<tr><td>1744-06-01   </td><td>11.609       </td><td>1.577        </td><td>Åland        </td><td>1744         </td><td>gas &amp; oil</td></tr>\n",
       "\t<tr><td>1744-07-01   </td><td>15.342       </td><td>1.410        </td><td>Åland        </td><td>1744         </td><td>gas &amp; oil</td></tr>\n",
       "\t<tr><td>1744-09-01   </td><td>11.702       </td><td>1.517        </td><td>Åland        </td><td>1744         </td><td>gas &amp; oil</td></tr>\n",
       "</tbody>\n",
       "</table>\n"
      ],
      "text/latex": [
       "\\begin{tabular}{r|llllll}\n",
       " dt & AverageTemperature & AverageTemperatureUncertainty & Country & year & era\\\\\n",
       "\\hline\n",
       "\t 1743-11-01  &  4.384      & 2.294       & Åland       & 1743        & gas \\& oil\\\\\n",
       "\t 1744-04-01  &  1.530      & 4.680       & Åland       & 1744        & gas \\& oil\\\\\n",
       "\t 1744-05-01  &  6.702      & 1.789       & Åland       & 1744        & gas \\& oil\\\\\n",
       "\t 1744-06-01  & 11.609      & 1.577       & Åland       & 1744        & gas \\& oil\\\\\n",
       "\t 1744-07-01  & 15.342      & 1.410       & Åland       & 1744        & gas \\& oil\\\\\n",
       "\t 1744-09-01  & 11.702      & 1.517       & Åland       & 1744        & gas \\& oil\\\\\n",
       "\\end{tabular}\n"
      ],
      "text/markdown": [
       "\n",
       "| dt | AverageTemperature | AverageTemperatureUncertainty | Country | year | era |\n",
       "|---|---|---|---|---|---|\n",
       "| 1743-11-01 |  4.384     | 2.294      | Åland      | 1743       | gas & oil  |\n",
       "| 1744-04-01 |  1.530     | 4.680      | Åland      | 1744       | gas & oil  |\n",
       "| 1744-05-01 |  6.702     | 1.789      | Åland      | 1744       | gas & oil  |\n",
       "| 1744-06-01 | 11.609     | 1.577      | Åland      | 1744       | gas & oil  |\n",
       "| 1744-07-01 | 15.342     | 1.410      | Åland      | 1744       | gas & oil  |\n",
       "| 1744-09-01 | 11.702     | 1.517      | Åland      | 1744       | gas & oil  |\n",
       "\n"
      ],
      "text/plain": [
       "  dt         AverageTemperature AverageTemperatureUncertainty Country year\n",
       "1 1743-11-01  4.384             2.294                         Åland   1743\n",
       "2 1744-04-01  1.530             4.680                         Åland   1744\n",
       "3 1744-05-01  6.702             1.789                         Åland   1744\n",
       "4 1744-06-01 11.609             1.577                         Åland   1744\n",
       "5 1744-07-01 15.342             1.410                         Åland   1744\n",
       "6 1744-09-01 11.702             1.517                         Åland   1744\n",
       "  era      \n",
       "1 gas & oil\n",
       "2 gas & oil\n",
       "3 gas & oil\n",
       "4 gas & oil\n",
       "5 gas & oil\n",
       "6 gas & oil"
      ]
     },
     "metadata": {},
     "output_type": "display_data"
    }
   ],
   "source": [
    "head(mydata)"
   ]
  },
  {
   "cell_type": "markdown",
   "metadata": {},
   "source": [
    "#### Independent T-test compares means between two groups\n",
    "\n",
    "It is often used to see whether there is a group difference in continuous data **between two groups** \n",
    "\n",
    "*Model assumptions*\n",
    "\n",
    "    (1) Independence\n",
    "\n",
    "    (2) Normality\n",
    "\n",
    "    (3) Equal variance"
   ]
  },
  {
   "cell_type": "code",
   "execution_count": 32,
   "metadata": {},
   "outputs": [
    {
     "data": {
      "text/plain": [
       "\n",
       "\tTwo Sample t-test\n",
       "\n",
       "data:  AverageTemperature by era\n",
       "t = 3.7437, df = 54, p-value = 0.0004415\n",
       "alternative hypothesis: true difference in means is not equal to 0\n",
       "95 percent confidence interval:\n",
       " 0.1806106 0.5970976\n",
       "sample estimates:\n",
       "mean in group electronic  mean in group gas & oil \n",
       "                19.13249                 18.74364 \n"
      ]
     },
     "metadata": {},
     "output_type": "display_data"
    }
   ],
   "source": [
    "t.test(AverageTemperature ~ era, data=carbon, var.eq=TRUE)"
   ]
  },
  {
   "cell_type": "markdown",
   "metadata": {},
   "source": [
    "Interpreting the results:\n",
    "\n",
    "* `t` value guides our analysis. Read more at this [link](https://blog.minitab.com/blog/adventures-in-statistics-2/understanding-t-tests-t-values-and-t-distributions)\n",
    "* `df = 54` degrees of freedom \n",
    "* `p-value < 0.0004415` pretty low, so that means that we can reject the null hypothesis\n",
    "\n",
    "<br>\n",
    "\n",
    "* Which one seems higher?\n",
    "    * mean in group `gas & oil` = `18.74364`\n",
    "    * mean in group `eletronics` = `19.13249`\n"
   ]
  },
  {
   "cell_type": "markdown",
   "metadata": {},
   "source": [
    "### Is there any association between the `AverageTemperature` and the `AverageCarbonEmission`  ?"
   ]
  },
  {
   "cell_type": "markdown",
   "metadata": {},
   "source": [
    "#### Pearson’s correlation is used to examine associations between variables (represented by continuous data) by looking at the direction and strength of the associations"
   ]
  },
  {
   "cell_type": "code",
   "execution_count": 33,
   "metadata": {},
   "outputs": [
    {
     "data": {
      "text/plain": [
       "\n",
       "\tPearson's product-moment correlation\n",
       "\n",
       "data:  carbon$AverageTemperature and carbon$AverageCarbonEmission\n",
       "t = 14.919, df = 54, p-value < 2.2e-16\n",
       "alternative hypothesis: true correlation is not equal to 0\n",
       "95 percent confidence interval:\n",
       " 0.8299122 0.9386169\n",
       "sample estimates:\n",
       "      cor \n",
       "0.8970832 \n"
      ]
     },
     "metadata": {},
     "output_type": "display_data"
    }
   ],
   "source": [
    "cor.test(carbon$AverageTemperature, carbon$AverageCarbonEmission, method=\"pearson\")"
   ]
  },
  {
   "cell_type": "markdown",
   "metadata": {},
   "source": [
    "Interpreting the results:\n",
    "\n",
    "* `p-value < 2.2e-16` pretty low, so that means that there is statistically significant correlation between `temperature` and `carbon emission`\n",
    "\n",
    "<br>\n",
    "\n",
    "* How strong is the correlation  `cor` = `0.8970832` \n",
    "\n",
    "    Interpretation varies by research field so results should be interpreted with caution\n",
    "    \n",
    "    `cor` varies from `-1` to `1` positive values indicate that an increase in the `x` variable increases the `y` variable. In this case, a value closer to `1` means a strong positive correlation\n"
   ]
  },
  {
   "cell_type": "markdown",
   "metadata": {},
   "source": [
    "***\n",
    "\n",
    "### Did we do the correct analysis?\n",
    "\n",
    "### What if the data is not normally distributed?\n",
    "\n",
    "#### Let us test for normality using the Shapiro-Wilk test:\n",
    "\n",
    "**Null hypothesis**: The data is normally distributed. If p > 0.05, normality can be assumed."
   ]
  },
  {
   "cell_type": "code",
   "execution_count": 34,
   "metadata": {},
   "outputs": [
    {
     "data": {
      "text/plain": [
       "\n",
       "\tShapiro-Wilk normality test\n",
       "\n",
       "data:  carbon$AverageTemperature\n",
       "W = 0.94052, p-value = 0.008176\n"
      ]
     },
     "metadata": {},
     "output_type": "display_data"
    }
   ],
   "source": [
    "shapiro.test(carbon$AverageTemperature)"
   ]
  },
  {
   "cell_type": "markdown",
   "metadata": {},
   "source": [
    "* `p-value < 0.05` So we reject the null hypothesis and our data is skewed "
   ]
  },
  {
   "cell_type": "markdown",
   "metadata": {},
   "source": [
    "#### We can also check data visually "
   ]
  },
  {
   "cell_type": "code",
   "execution_count": 35,
   "metadata": {},
   "outputs": [
    {
     "data": {
      "image/png": "[encoded data removed]",
      "text/plain": [
       "plot without title"
      ]
     },
     "metadata": {},
     "output_type": "display_data"
    }
   ],
   "source": [
    "ggplot(carbon, aes(x=AverageTemperature)) + \n",
    "  geom_density()"
   ]
  },
  {
   "cell_type": "markdown",
   "metadata": {},
   "source": [
    "***\n",
    "\n",
    "### So what tests should we run?\n",
    "\n",
    "\n",
    "Parametric test | R | Non-parametric test | R\n",
    "--- | --- | --- | ---\n",
    "Independent t-test | `t.test(y~x)` |  Mann-Whitney test | `wilcox.test(y~x)`\n",
    "Paired t-test | `t.test(y1, y2, paired=TRUE)` | Wilcoxon signed rank test | `wilcox.test(y1,y2,paired=TRUE)`\n",
    "One-way ANOVA | `aov(y ~ x, data = my_data)` |  Kruskal-Wallis test | `kruskal.test(y~x)`\n",
    "Pearson's correlation | `cor.test(x, y, method=c(\"pearson\")` | Spearman's correlation | `cor.test(x, y, method=c(\"spearman\")`\n",
    "\n",
    "These are only some examples\n",
    "\n",
    "***\n",
    "\n",
    "# Exercise\n",
    "\n",
    "## If we are on track, try to:\n",
    "\n",
    "\n",
    "### 1. Run the proper non-parametric tests for our data/analysis\n",
    "\n",
    "\n",
    "\n",
    "\n",
    "<br><br><br><br>\n",
    "\n",
    "\n",
    "## Don't spoil the fun. The stick figure is watching you\n",
    "\n",
    "\n",
    "<br><br><br><br>\n",
    "\n",
    "\n",
    "<img src=\"figures/watch.png\" width=\"30%\">\n",
    "\n",
    "***\n",
    "\n",
    "### Answer:"
   ]
  },
  {
   "cell_type": "markdown",
   "metadata": {},
   "source": [
    "\n",
    "\n",
    "### Mann-Whitney test"
   ]
  },
  {
   "cell_type": "code",
   "execution_count": 36,
   "metadata": {},
   "outputs": [
    {
     "data": {
      "text/plain": [
       "\n",
       "\tWilcoxon rank sum test\n",
       "\n",
       "data:  AverageTemperature by era\n",
       "W = 437, p-value = 0.0002986\n",
       "alternative hypothesis: true location shift is not equal to 0\n"
      ]
     },
     "metadata": {},
     "output_type": "display_data"
    }
   ],
   "source": [
    "wilcox.test(AverageTemperature ~ era, data=carbon)"
   ]
  },
  {
   "cell_type": "markdown",
   "metadata": {},
   "source": [
    "***\n",
    "\n",
    "### Spearman Correlation"
   ]
  },
  {
   "cell_type": "code",
   "execution_count": 37,
   "metadata": {},
   "outputs": [
    {
     "data": {
      "text/plain": [
       "\n",
       "\tSpearman's rank correlation rho\n",
       "\n",
       "data:  carbon$AverageTemperature and carbon$AverageCarbonEmission\n",
       "S = 4452, p-value < 2.2e-16\n",
       "alternative hypothesis: true rho is not equal to 0\n",
       "sample estimates:\n",
       "      rho \n",
       "0.8478469 \n"
      ]
     },
     "metadata": {},
     "output_type": "display_data"
    }
   ],
   "source": [
    "cor.test(carbon$AverageTemperature, carbon$AverageCarbonEmission, method=\"spearman\")"
   ]
  },
  {
   "cell_type": "markdown",
   "metadata": {},
   "source": [
    "***\n",
    "\n",
    "### Conclusions from our analysis"
   ]
  },
  {
   "cell_type": "markdown",
   "metadata": {},
   "source": [
    "<img src=\"figures/this_is_fine.png\">"
   ]
  },
  {
   "cell_type": "markdown",
   "metadata": {},
   "source": [
    "***\n",
    "\n",
    "# Research Commons: An interdisciplinary research-driven learning environment\n",
    "\n",
    "\n",
    "### * Literature review\n",
    "### * Systematic Review Search  Methodology\n",
    "### * Citation Management\n",
    "### * Thesis Formatting \n",
    "\n",
    "\n",
    "### * Nvivo Software Support\n",
    "\n",
    "\n",
    "\n",
    "### * SPSS Software Support\n",
    "\n",
    "<img style=\"float: right;\" src=\"figures/research_commons_logo.png\">\n",
    "\n",
    "\n",
    "### * R Group\n",
    "\n",
    "\n",
    "\n",
    "### * Multi-Disciplinary Graduate Student Writing Group\n",
    "\n",
    "***"
   ]
  },
  {
   "cell_type": "markdown",
   "metadata": {},
   "source": [
    "<img style=\"position: relative;\" src=\"figures/background.png\">\n",
    "\n",
    "<img style=\"position: absolute; top: 50px; left: 200px; background: rgba(255,255,255, 0.5);\" src=\"figures/thanks.png\">"
   ]
  },
  {
   "cell_type": "markdown",
   "metadata": {
    "slideshow": {
     "slide_type": "-"
    }
   },
   "source": [
    "\n",
    "\n",
    "<center> <h1>Feedback</h1><h2>http://bit.ly/RCfeedbackwinter2018</h2> </center>\n"
   ]
  }
 ],
 "metadata": {
  "kernelspec": {
   "display_name": "R",
   "language": "R",
   "name": "ir"
  },
  "language_info": {
   "codemirror_mode": "r",
   "file_extension": ".r",
   "mimetype": "text/x-r-source",
   "name": "R",
   "pygments_lexer": "r",
   "version": "3.6.0"
  }
 },
 "nbformat": 4,
 "nbformat_minor": 2
}
